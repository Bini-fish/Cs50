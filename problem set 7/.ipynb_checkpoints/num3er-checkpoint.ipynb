{
 "cells": [
  {
   "cell_type": "code",
   "execution_count": 2,
   "id": "7ced4687",
   "metadata": {},
   "outputs": [
    {
     "name": "stdout",
     "output_type": "stream",
     "text": [
      "IPv4 Address: 255.2.2.2\n",
      "\n",
      "None\n"
     ]
    }
   ],
   "source": [
    "import re\n",
    "import sys\n",
    "\n",
    "\n",
    "def main():\n",
    "    print(validate(input(\"IPv4 Address: \")))\n",
    "\n",
    "\n",
    "def validate(ip):\n",
    "    pattern = r\"\\d[0-255]\\.\\d[0-255]\\.\\d[0-255]\\.\\d[0-255]\"\n",
    "    match = re.search(pattern, ip)\n",
    "    if match:\n",
    "        print(\"Valid\")\n",
    "    else: \n",
    "        print(\"Invalid\")\n",
    "\n",
    "\n",
    "if __name__ == \"__main__\":\n",
    "    main()"
   ]
  },
  {
   "cell_type": "code",
   "execution_count": null,
   "id": "d1e4bfe3",
   "metadata": {},
   "outputs": [],
   "source": [
    "ip = input(\"IPv4 Address: \")\n",
    "pattern = r\"\\d[0-255]\\.\\d[0-255]\\.\\d[0-255]\\.\\d[0-255]\"\n",
    "\n",
    "match = re.search(pattern, ip)\n",
    "\n",
    "if match:\n",
    "    print(\"Valid\")\n",
    "else: \n",
    "    print(\"Invalid\")"
   ]
  }
 ],
 "metadata": {
  "kernelspec": {
   "display_name": "Python 3 (ipykernel)",
   "language": "python",
   "name": "python3"
  },
  "language_info": {
   "codemirror_mode": {
    "name": "ipython",
    "version": 3
   },
   "file_extension": ".py",
   "mimetype": "text/x-python",
   "name": "python",
   "nbconvert_exporter": "python",
   "pygments_lexer": "ipython3",
   "version": "3.11.4"
  }
 },
 "nbformat": 4,
 "nbformat_minor": 5
}
